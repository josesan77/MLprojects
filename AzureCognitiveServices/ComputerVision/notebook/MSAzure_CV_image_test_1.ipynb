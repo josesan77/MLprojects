{
 "cells": [
  {
   "cell_type": "markdown",
   "id": "45bd6a8e",
   "metadata": {},
   "source": [
    "# Computer Vision Quickstart for Microsoft Azure Cognitive Services. \n",
    "Using _remote image(s)_ in this example. For local image analysis check original source below or python files in the 'python' folder of this github content: https://github.com/josesan77/MLprojects/tree/master/AzureCognitiveServices/ComputerVision\n",
    "\n",
    "This notebooks runs on Anaconda (2.6+ tested) package Notebook services (localhost), with all below listed python modules installed in background.\n",
    "\n",
    "Original source: https://github.com/Azure-Samples/cognitive-services-quickstart-code/blob/master/python/ComputerVision/ImageAnalysisQuickstart.py\n",
    "\n",
    "Modified content.\n",
    "\n",
    "Prerequisites:\n",
    "    - Have or create an Azure Computer Vision service (key, endpoint) here: https://portal.azure.com/\n",
    "    \n",
    "    follow this tutorial: https://learn.microsoft.com/en-us/azure/ai-services/computer-vision/quickstarts-sdk/image-analysis-client-library?tabs=windows%2Cvisual-studio&pivots=programming-language-python\n",
    "      \n",
    "    - Azure Cognitive Services: Computer vision SDK, add module to existing Python environment\n",
    "    \n",
    "      pip install --upgrade azure-cognitiveservices-vision-computervision\n",
    "      \n",
    "    - Install PIL module:\n",
    "    \n",
    "      pip install --upgrade pillow\n",
    "      \n",
    "    - find publicly available (free to use) images online, ensure that the image url directly points to an image, not to a webpage / image slider / drive folder or similar image sharing\n",
    "    \n",
    "      Advice: search for small images, around 400-600 px are fine, as this size of image uses acceptable amount of Azure resources and is analysed faster than HD or higher resolution images.\n",
    "\n",
    "If below given images are not accessible, find images in images/web_images subfolder to compare images and understand below defined AI responses.\n",
    "\n",
    "Created on Tue Dec 24 14:39:58 2024\n",
    "\n",
    "@author: josesan77"
   ]
  },
  {
   "cell_type": "code",
   "execution_count": 37,
   "id": "f48b7a5f",
   "metadata": {},
   "outputs": [],
   "source": [
    "# <snippet_imports_and_vars>\n",
    "# <snippet_imports>\n",
    "from azure.cognitiveservices.vision.computervision import ComputerVisionClient\n",
    "from azure.cognitiveservices.vision.computervision.models import OperationStatusCodes\n",
    "from azure.cognitiveservices.vision.computervision.models import VisualFeatureTypes, Details\n",
    "from msrest.authentication import CognitiveServicesCredentials\n",
    "\n",
    "from array import array\n",
    "import os\n",
    "from PIL import Image\n",
    "import sys\n",
    "import time\n",
    "# </snippet_imports>"
   ]
  },
  {
   "cell_type": "markdown",
   "id": "62a6acbf",
   "metadata": {},
   "source": [
    "## Authenticate\n",
    "Authenticates your credentials and creates a client."
   ]
  },
  {
   "cell_type": "code",
   "execution_count": 6,
   "id": "637f78e3",
   "metadata": {},
   "outputs": [],
   "source": [
    "# <snippet_vars>\n",
    "# do not share key and endpoint values, keep it confidential!\n",
    "subscription_key = \"PASTE_YOUR_COMPUTER_VISION_KEY_HERE\"\n",
    "endpoint = \"https://PASTE_YOUR_COMPUTER_VISION_ENDPOINT_HERE.cognitiveservices.azure.com/\"\n",
    "# </snippet_vars>\n",
    "# </snippet_imports_and_vars>"
   ]
  },
  {
   "cell_type": "code",
   "execution_count": 7,
   "id": "b5c282e7",
   "metadata": {},
   "outputs": [
    {
     "data": {
      "text/plain": [
       "'\\nEND - Authenticate\\n'"
      ]
     },
     "execution_count": 7,
     "metadata": {},
     "output_type": "execute_result"
    }
   ],
   "source": [
    "computervision_client = ComputerVisionClient(endpoint, CognitiveServicesCredentials(subscription_key))\n",
    "\n",
    "\"\"\"\n",
    "END - Authenticate\n",
    "\"\"\""
   ]
  },
  {
   "cell_type": "code",
   "execution_count": 90,
   "id": "915680ec",
   "metadata": {},
   "outputs": [
    {
     "data": {
      "text/plain": [
       "'\\nEND - Quickstart variables\\n'"
      ]
     },
     "execution_count": 90,
     "metadata": {},
     "output_type": "execute_result"
    }
   ],
   "source": [
    "\"\"\"\n",
    "Quickstart variables\n",
    "These variables are shared by several examples\n",
    "\"\"\"\n",
    "# Images used for the examples: Describe an image, Categorize an image, Tag an image, \n",
    "# Detect faces, Detect adult or racy content, Detect the color scheme, \n",
    "# Detect domain-specific content, Detect image types, Detect objects\n",
    "#images_folder = os.path.join (os.path.dirname(os.path.abspath(__file__)), \"images\")\n",
    "# <snippet_remoteimage>\n",
    "remote_image_url = \"https://cdn.pixabay.com/photo/2023/05/22/10/49/houses-8010401_640.jpg\"\n",
    "# \"https://cdn.pixabay.com/photo/2023/05/22/10/49/houses-8010401_640.jpg\" # 'outdoor_mountain' with confidence 66.41%\n",
    "# \"https://cdn.pixabay.com/photo/2014/11/02/10/41/plane-513641_640.jpg\" # 'sky_sun' with confidence 98.05%\n",
    "# \"https://cdn.pixabay.com/photo/2023/12/06/17/17/street-8434099_1280.jpg\" # 'building_' with confidence 27.34%, 'building_doorwindows' with confidence 13.67%, 'outdoor_street' with confidence 30.86%\n",
    "# \"https://media.istockphoto.com/id/1987655119/de/foto/smiling-young-businesswoman-standing-in-the-corridor-of-an-office.jpg?b=1&s=612x612&w=0&k=20&c=bGj5izPPSuOWUuVH8Y2O-Hpai9JJIul-MiBNFSDGfwo=\" \n",
    "# \"https://cdn.pixabay.com/photo/2023/12/19/21/52/trees-8458466_960_720.jpg\"\n",
    "# \"https://cdn.pixabay.com/photo/2024/01/04/21/54/volcano-8488486_640.jpg\" # 'outdoor_mountain' with confidence 89.45%\n",
    "\n",
    "# </snippet_remoteimage>\n",
    "\"\"\"\n",
    "END - Quickstart variables\n",
    "\"\"\""
   ]
  },
  {
   "cell_type": "markdown",
   "id": "6d9bf4d8",
   "metadata": {},
   "source": [
    "Verify remote image url"
   ]
  },
  {
   "cell_type": "code",
   "execution_count": 43,
   "id": "074e4357",
   "metadata": {},
   "outputs": [
    {
     "data": {
      "text/plain": [
       "'https://cdn.pixabay.com/photo/2017/10/05/18/35/lion-2820443_1280.jpg'"
      ]
     },
     "execution_count": 43,
     "metadata": {},
     "output_type": "execute_result"
    }
   ],
   "source": [
    "remote_image_url"
   ]
  },
  {
   "cell_type": "code",
   "execution_count": 92,
   "id": "b02f5f32",
   "metadata": {},
   "outputs": [
    {
     "name": "stdout",
     "output_type": "stream",
     "text": [
      "===== Analyze an image - remote =====\n",
      "Categories from remote image: \n",
      "'outdoor_mountain' with confidence 66.41%\n",
      "\n"
     ]
    }
   ],
   "source": [
    "# use this block with images below, define remote image URL in above cell:\n",
    "# \"https://cdn.pixabay.com/photo/2014/11/02/10/41/plane-513641_640.jpg\" # 'sky_sun' with confidence 98.05%\n",
    "# \"https://cdn.pixabay.com/photo/2023/12/06/17/17/street-8434099_1280.jpg\" # 'building_' with confidence 27.34%, 'building_doorwindows' with confidence 13.67%, 'outdoor_street' with confidence 30.86%\n",
    "# \"https://media.istockphoto.com/id/1987655119/de/foto/smiling-young-businesswoman-standing-in-the-corridor-of-an-office.jpg?b=1&s=612x612&w=0&k=20&c=bGj5izPPSuOWUuVH8Y2O-Hpai9JJIul-MiBNFSDGfwo=\" \n",
    "# \"https://cdn.pixabay.com/photo/2024/01/04/21/54/volcano-8488486_640.jpg\" # 'outdoor_mountain' with confidence 89.45%\n",
    "\n",
    "# <snippet_features_remote>\n",
    "print(\"===== Analyze an image - remote =====\")\n",
    "# Select the visual feature(s) you want.\n",
    "remote_image_features = [VisualFeatureTypes.categories,VisualFeatureTypes.brands,VisualFeatureTypes.adult,VisualFeatureTypes.color,VisualFeatureTypes.description,VisualFeatureTypes.faces,VisualFeatureTypes.image_type,VisualFeatureTypes.objects,VisualFeatureTypes.tags]\n",
    "remote_image_details = [Details.landmarks] #Details.celebrities removed from details list\n",
    "# </snippet_features_remote>\n",
    "\n",
    "# <snippet_analyze>\n",
    "# Call API with URL and features\n",
    "results_remote = computervision_client.analyze_image(remote_image_url , remote_image_features, remote_image_details)\n",
    "\n",
    "# Print results with confidence score\n",
    "print(\"Categories from remote image: \")\n",
    "if (len(results_remote.categories) == 0):\n",
    "    print(\"No categories detected.\")\n",
    "else:\n",
    "    for category in results_remote.categories:\n",
    "        print(\"'{}' with confidence {:.2f}%\".format(category.name, category.score * 100))"
   ]
  },
  {
   "cell_type": "code",
   "execution_count": 63,
   "id": "1a901a38",
   "metadata": {},
   "outputs": [
    {
     "name": "stdout",
     "output_type": "stream",
     "text": [
      "Faces in the remote image: \n",
      "Gender, and age could not be determined at location (left, top, right, bottom) 117, 211, 186, 280\n",
      "Gender, and age could not be determined at location (left, top, right, bottom) 259, 206, 320, 267\n",
      "Analyzing remote image for adult or racy content ... \n",
      "Is adult content: False with confidence 0.33\n",
      "Has racy content: False with confidence 0.39\n",
      "\n"
     ]
    }
   ],
   "source": [
    "remote_image_url = \"https://cdn.pixabay.com/photo/2023/04/18/08/42/children-7934514_640.jpg\"\n",
    "# or try one of the below listed images (AI responses are included)\n",
    "\n",
    "# \"https://cdn.pixabay.com/photo/2024/11/02/14/12/ai-generated-9169251_640.jpg\" # location 262, 45, 353, 136\n",
    "# Is adult content: False with confidence 3.10, Has racy content: False with confidence 76.35\n",
    "\n",
    "# \"https://cdn.pixabay.com/photo/2023/04/18/08/42/children-7934514_640.jpg\" # locations: 117, 211, 186, 280; 259, 206, 320, 267\n",
    "# Is adult content: False with confidence 0.33; Has racy content: False with confidence 0.39\n",
    "\n",
    "# \"https://cdn.pixabay.com/photo/2016/10/17/19/40/indians-1748464_640.jpg\"  location 150, 199, 333, 382;\n",
    "# Is adult content: False with confidence 0.13; Has racy content: False with confidence 0.30\n",
    "\n",
    "#\"https://media.istockphoto.com/id/1987655119/de/foto/smiling-young-businesswoman-standing-in-the-corridor-of-an-office.jpg?b=1&s=612x612&w=0&k=20&c=bGj5izPPSuOWUuVH8Y2O-Hpai9JJIul-MiBNFSDGfwo=\"\n",
    "# 'None' of age None at location 247, 58, 328, 139; Analyzing remote image for adult or racy content ... \n",
    "# Is adult content: False with confidence 0.12\n",
    "# Has racy content: False with confidence 0.25\n",
    "remote_image_features = [VisualFeatureTypes.categories,VisualFeatureTypes.brands,VisualFeatureTypes.adult,VisualFeatureTypes.color,VisualFeatureTypes.description,VisualFeatureTypes.faces,VisualFeatureTypes.image_type,VisualFeatureTypes.objects,VisualFeatureTypes.tags]\n",
    "remote_image_details = [Details.landmarks] # Details.celebrities removed from details list\n",
    "# </snippet_features_remote>\n",
    "\n",
    "# <snippet_analyze>\n",
    "# Call API with URL and features\n",
    "results_remote = computervision_client.analyze_image(remote_image_url , remote_image_features, remote_image_details)\n",
    "\n",
    "# Detect faces\n",
    "# Print the results with gender, age, and bounding box\n",
    "print(\"Faces in the remote image: \")\n",
    "if (len(results_remote.faces) == 0):\n",
    "    print(\"No faces detected.\")\n",
    "else:\n",
    "    for face in results_remote.faces:\n",
    "        if face.gender is not None and face.age is not None:\n",
    "            pretext = (\"'{}' of age {}\".format(face.gender, face.age))\n",
    "        elif face.age is not None:\n",
    "            pretext = (\"age {}\".format(face.age))\n",
    "        elif face.gender is not None:\n",
    "            pretext = (\"'{}' \".format(face.gender))\n",
    "        else:\n",
    "            pretext = ('Gender, and age could not be determined')\n",
    "        print(pretext + \" at location (left, top, right, bottom): {}, {}, {}, {}\"\\\n",
    "              .format( face.face_rectangle.left, face.face_rectangle.top, \\\n",
    "        face.face_rectangle.left + face.face_rectangle.width, \\\n",
    "        face.face_rectangle.top + face.face_rectangle.height))\n",
    "\n",
    "# Adult/racy content verification\n",
    "# Print results with adult/racy score\n",
    "print(\"Analyzing remote image for adult or racy content ... \")\n",
    "print(\"Is adult content: {} with confidence {:.2f}\".format(results_remote.adult.is_adult_content, results_remote.adult.adult_score * 100))\n",
    "print(\"Has racy content: {} with confidence {:.2f}\".format(results_remote.adult.is_racy_content, results_remote.adult.racy_score * 100))"
   ]
  },
  {
   "cell_type": "markdown",
   "id": "c3af3215",
   "metadata": {},
   "source": [
    "## Detect colors\n",
    "### Print results of color scheme\n",
    "For example in case of remote_image_url = \"https://cdn.pixabay.com/photo/2023/04/18/08/42/children-7934514_640.jpg\"\n",
    "\n",
    "AI analysis response:\n",
    "\n",
    "- Is black and white: False\n",
    "- Accent color: 2D485D\n",
    "- Dominant background color: Black\n",
    "- Dominant foreground color: Brown\n",
    "- Dominant colors: ['Black', 'Brown', 'Grey']"
   ]
  },
  {
   "cell_type": "code",
   "execution_count": 64,
   "id": "81e54155",
   "metadata": {},
   "outputs": [
    {
     "name": "stdout",
     "output_type": "stream",
     "text": [
      "Getting color scheme of the remote image: \n",
      "Is black and white: False\n",
      "Accent color: 2D485D\n",
      "Dominant background color: Black\n",
      "Dominant foreground color: Brown\n",
      "Dominant colors: ['Black', 'Brown', 'Grey']\n",
      "\n"
     ]
    }
   ],
   "source": [
    "# Detect colors\n",
    "# Print results of color scheme\n",
    "print(\"Getting color scheme of the remote image: \")\n",
    "print(\"Is black and white: {}\".format(results_remote.color.is_bw_img))\n",
    "print(\"Accent color: {}\".format(results_remote.color.accent_color))\n",
    "print(\"Dominant background color: {}\".format(results_remote.color.dominant_color_background))\n",
    "print(\"Dominant foreground color: {}\".format(results_remote.color.dominant_color_foreground))\n",
    "print(\"Dominant colors: {}\".format(results_remote.color.dominant_colors))"
   ]
  },
  {
   "cell_type": "markdown",
   "id": "9371811e",
   "metadata": {},
   "source": [
    "## Detect image type\n",
    "Prints type results with degree of accuracy.\n",
    "\n",
    "AI response (remote_image_url = \"https://cdn.pixabay.com/photo/2023/04/18/08/42/children-7934514_640.jpg\")\n",
    "\n",
    "Type of remote image:\n",
    "- Image is not clip art.\n",
    "- Image is not a line drawing."
   ]
  },
  {
   "cell_type": "code",
   "execution_count": 65,
   "id": "06283b2b",
   "metadata": {},
   "outputs": [
    {
     "name": "stdout",
     "output_type": "stream",
     "text": [
      "Type of remote image:\n",
      "Image is not clip art.\n",
      "Image is not a line drawing.\n"
     ]
    }
   ],
   "source": [
    "# Detect image type\n",
    "# Prints type results with degree of accuracy\n",
    "print(\"Type of remote image:\")\n",
    "if results_remote.image_type.clip_art_type == 0:\n",
    "    print(\"Image is not clip art.\")\n",
    "elif results_remote.image_type.line_drawing_type == 1:\n",
    "    print(\"Image is ambiguously clip art.\")\n",
    "elif results_remote.image_type.line_drawing_type == 2:\n",
    "    print(\"Image is normal clip art.\")\n",
    "else:\n",
    "    print(\"Image is good clip art.\")\n",
    "\n",
    "if results_remote.image_type.line_drawing_type == 0:\n",
    "    print(\"Image is not a line drawing.\")\n",
    "else:\n",
    "    print(\"Image is a line drawing\")"
   ]
  },
  {
   "cell_type": "markdown",
   "id": "d6c72ebd",
   "metadata": {},
   "source": [
    "# Detect brands\n",
    "\n",
    "AI response (remote_image_url = \"https://cdn.pixabay.com/photo/2023/04/18/08/42/children-7934514_640.jpg\") - No brands detected.\n"
   ]
  },
  {
   "cell_type": "code",
   "execution_count": 66,
   "id": "c9426148",
   "metadata": {},
   "outputs": [
    {
     "name": "stdout",
     "output_type": "stream",
     "text": [
      "Detecting brands in remote image: \n",
      "No brands detected.\n"
     ]
    }
   ],
   "source": [
    "# Detect brands\n",
    "print(\"Detecting brands in remote image: \")\n",
    "if len(results_remote.brands) == 0:\n",
    "    print(\"No brands detected.\")\n",
    "else:\n",
    "    for brand in results_remote.brands:\n",
    "        print(\"'{}' brand detected with confidence {:.1f}% at location {}, {}, {}, {}\".format( \\\n",
    "        brand.name, brand.confidence * 100, brand.rectangle.x, brand.rectangle.x + brand.rectangle.w, \\\n",
    "        brand.rectangle.y, brand.rectangle.y + brand.rectangle.h))"
   ]
  },
  {
   "cell_type": "markdown",
   "id": "f8598967",
   "metadata": {},
   "source": [
    "## Detect objects\n",
    "Print detected objects results with bounding boxes\n",
    "\n",
    "AI response (remote_image_url = \"https://cdn.pixabay.com/photo/2023/04/18/08/42/children-7934514_640.jpg\")\n",
    "\n",
    "Detecting objects in remote image:\n",
    "- object at location (left, right, top, bottom) 341, 412, 483, 522\n",
    "- object at location (left, right, top, bottom) 195, 280, 515, 566\n",
    "- object at location (left, right, top, bottom) 289, 363, 507, 558\n",
    "- object at location (left, right, top, bottom) 104, 179, 613, 638\n",
    "- object at location (left, right, top, bottom) 52, 234, 275, 433\n",
    "- object at location (left, right, top, bottom) 54, 281, 163, 622\n",
    "- object at location (left, right, top, bottom) 204, 402, 172, 569\n",
    "\n",
    "See manually labeled 'children-7934514_640_objects.png' image in notebook/analysed_images folder. Colors are manually selected, yellows 1-2, orange 3-4, blue ones are for frames 5-6-7.\n",
    "\n",
    "Note that not all objects have been found by the AI! And yes, humans are considered as objects in this analysis!"
   ]
  },
  {
   "cell_type": "code",
   "execution_count": 69,
   "id": "260fbd31",
   "metadata": {},
   "outputs": [
    {
     "name": "stdout",
     "output_type": "stream",
     "text": [
      "Detecting objects in remote image:\n",
      "object at location 341, 412, 483, 522\n",
      "object at location 195, 280, 515, 566\n",
      "object at location 289, 363, 507, 558\n",
      "object at location 104, 179, 613, 638\n",
      "object at location 52, 234, 275, 433\n",
      "object at location 54, 281, 163, 622\n",
      "object at location 204, 402, 172, 569\n"
     ]
    }
   ],
   "source": [
    "# Detect objects\n",
    "# Print detected objects results with bounding boxes\n",
    "print(\"Detecting objects in remote image:\")\n",
    "if len(results_remote.objects) == 0:\n",
    "    print(\"No objects detected.\")\n",
    "else:\n",
    "    for object in results_remote.objects:\n",
    "        print(\"object at location (left, right, top, bottom) {}, {}, {}, {}\".format( \\\n",
    "        object.rectangle.x, object.rectangle.x + object.rectangle.w, \\\n",
    "        object.rectangle.y, object.rectangle.y + object.rectangle.h))"
   ]
  },
  {
   "cell_type": "markdown",
   "id": "94758ffd",
   "metadata": {},
   "source": [
    "## Describe image\n",
    "Get the captions (descriptions) from the response, with confidence level\n",
    "\n",
    "AI response (remote_image_url = \"https://cdn.pixabay.com/photo/2023/04/18/08/42/children-7934514_640.jpg\")\n",
    "\n",
    "Description of remote image: \n",
    "- 'a group of young boys sitting on a bench eating' with confidence 35.92%\n",
    "\n",
    "AI response (remote_image_url =  \"https://cdn.pixabay.com/photo/2023/05/22/10/49/houses-8010401_640.jpg\")\n",
    "\n",
    "- 'a building next to a body of water with mountains in the background' with confidence 54.92%"
   ]
  },
  {
   "cell_type": "code",
   "execution_count": 117,
   "id": "f2569ee6",
   "metadata": {},
   "outputs": [
    {
     "name": "stdout",
     "output_type": "stream",
     "text": [
      "Description of remote image: \n",
      "'a building next to a body of water with mountains in the background' with confidence 54.92%\n",
      "\n"
     ]
    }
   ],
   "source": [
    "# Describe image\n",
    "# Get the captions (descriptions) from the response, with confidence level\n",
    "print(\"Description of remote image: \")\n",
    "if (len(results_remote.description.captions) == 0):\n",
    "    print(\"No description detected.\")\n",
    "else:\n",
    "    for caption in results_remote.description.captions:\n",
    "        print(\"'{}' with confidence {:.2f}%\".format(caption.text, caption.confidence * 100))\n",
    "print()"
   ]
  },
  {
   "cell_type": "markdown",
   "id": "33135581",
   "metadata": {},
   "source": [
    "## Return tags\n",
    "Print results with confidence score\n",
    "\n",
    "AI response (remote_image_url = \"https://cdn.pixabay.com/photo/2023/04/18/08/42/children-7934514_640.jpg\")\n",
    "\n",
    "Tags in the remote image: \n",
    "- 'clothing' with confidence 99.82%\n",
    "- 'human face' with confidence 99.57%\n",
    "- 'person' with confidence 99.19%\n",
    "- 'toddler' with confidence 99.15%\n",
    "- 'footwear' with confidence 97.42%\n",
    "- 'ground' with confidence 96.27%\n",
    "- 'girl' with confidence 94.14%\n",
    "- 'baby' with confidence 92.82%\n",
    "- 'outdoor' with confidence 87.84%\n",
    "- 'child' with confidence 80.15%\n",
    "- 'sitting' with confidence 74.19%\n",
    "- 'boy' with confidence 64.80%\n",
    "- 'young' with confidence 62.46%\n",
    "\n",
    "I am not the right person to judge gender identification, but I do disagree in 'girl', especially that high confidence value. Also on 'baby' and 'toddler' with such high confidence values."
   ]
  },
  {
   "cell_type": "code",
   "execution_count": 71,
   "id": "74606a5c",
   "metadata": {},
   "outputs": [
    {
     "name": "stdout",
     "output_type": "stream",
     "text": [
      "Tags in the remote image: \n",
      "'clothing' with confidence 99.82%\n",
      "'human face' with confidence 99.57%\n",
      "'person' with confidence 99.19%\n",
      "'toddler' with confidence 99.15%\n",
      "'footwear' with confidence 97.42%\n",
      "'ground' with confidence 96.27%\n",
      "'girl' with confidence 94.14%\n",
      "'baby' with confidence 92.82%\n",
      "'outdoor' with confidence 87.84%\n",
      "'child' with confidence 80.15%\n",
      "'sitting' with confidence 74.19%\n",
      "'boy' with confidence 64.80%\n",
      "'young' with confidence 62.46%\n"
     ]
    }
   ],
   "source": [
    "# Return tags\n",
    "# Print results with confidence score\n",
    "print(\"Tags in the remote image: \")\n",
    "if (len(results_remote.tags) == 0):\n",
    "    print(\"No tags detected.\")\n",
    "else:\n",
    "    for tag in results_remote.tags:\n",
    "        print(\"'{}' with confidence {:.2f}%\".format(tag.name, tag.confidence * 100))"
   ]
  },
  {
   "cell_type": "markdown",
   "id": "51ff5371",
   "metadata": {},
   "source": [
    "## Detect landmarks\n",
    "\n",
    "To ensure that Landmark content has been defined, run the following command in the cell below:\n",
    "\n",
    "results_remote.categories[0].\\__dict__\n",
    "\n",
    "1) In case of remote_image_url = \"https://cdn.pixabay.com/photo/2023/04/18/08/42/children-7934514_640.jpg\"\n",
    "\n",
    "{'additional_properties': {},\n",
    " 'name': 'people_group',\n",
    " 'score': 0.2890625,\n",
    " 'detail': None}\n",
    " \n",
    "2) In case of remote_image_url = \"https://cdn.pixabay.com/photo/2023/05/22/10/49/houses-8010401_640.jpg\"\n",
    "\n",
    "{'additional_properties': {},\n",
    " 'name': 'outdoor_mountain',\n",
    " 'score': 0.6640625,\n",
    " 'detail': <azure.cognitiveservices.vision.computervision.models._models_py3.CategoryDetail at 0x1e239ec8b10>}\n",
    " \n",
    " 'detail' contains an object and data should be extracted from it "
   ]
  },
  {
   "cell_type": "code",
   "execution_count": 94,
   "id": "e9c2e826",
   "metadata": {},
   "outputs": [
    {
     "data": {
      "text/plain": [
       "{'additional_properties': {},\n",
       " 'name': 'outdoor_mountain',\n",
       " 'score': 0.6640625,\n",
       " 'detail': <azure.cognitiveservices.vision.computervision.models._models_py3.CategoryDetail at 0x1e239ec8b10>}"
      ]
     },
     "execution_count": 94,
     "metadata": {},
     "output_type": "execute_result"
    }
   ],
   "source": [
    "results_remote.categories[0].__dict__"
   ]
  },
  {
   "cell_type": "code",
   "execution_count": 95,
   "id": "86bf6dcf",
   "metadata": {},
   "outputs": [
    {
     "data": {
      "text/plain": [
       "{'additional_properties': {}, 'celebrities': None, 'landmarks': []}"
      ]
     },
     "execution_count": 95,
     "metadata": {},
     "output_type": "execute_result"
    }
   ],
   "source": [
    "# if in the cell above the 'detail' is not None (empty), run this cell as well to verify 'landmark' content\n",
    "results_remote.categories[0].detail.__dict__\n",
    "# response: {'additional_properties': {}, 'celebrities': None, 'landmarks': []} - landmark is not empty if AI finds something"
   ]
  },
  {
   "cell_type": "code",
   "execution_count": 116,
   "id": "f79067e3",
   "metadata": {},
   "outputs": [
    {
     "name": "stdout",
     "output_type": "stream",
     "text": [
      "Landmarks in the remote image:\n",
      "{'additional_properties': {}, 'name': 'outdoor_mountain', 'score': 0.6640625, 'detail': <azure.cognitiveservices.vision.computervision.models._models_py3.CategoryDetail object at 0x000001E239EC8B10>}\n",
      "details: additional_properties, celebrities, landmarks\n",
      "{'additional_properties': {}, 'celebrities': None, 'landmarks': []}\n"
     ]
    }
   ],
   "source": [
    "# Detect landmarks - list all available information\n",
    "# use case: remote_image_details = [Details.landmarks] #Details.celebrities removed from details list\n",
    "\n",
    "print(\"Landmarks in the remote image:\")\n",
    "if len(results_remote.categories) == 0:\n",
    "    print(\"No landmarks detected.\")\n",
    "else:\n",
    "    for category in results_remote.categories:\n",
    "        if category.__dict__['name']:\n",
    "            print(category.__dict__)\n",
    "            print('details: ' + ', '.join(category.detail.__dict__)) # property list\n",
    "            print(category.detail.__dict__) # property list with values (may be empty)\n",
    "        else:\n",
    "            print('No landmark recognised')"
   ]
  },
  {
   "cell_type": "markdown",
   "id": "47eae7a6",
   "metadata": {},
   "source": [
    "## Detect celebrities\n",
    "This module requires further authentication and access to 'Celebrity recognition' services. Ask for permission at:\n",
    "\n",
    "https://aka.ms/celebrityrecognition\n",
    "\n",
    "It may require up to 10 days of feedback.\n",
    "\n",
    "In case you have access, use this code replacing the appropriate code line above and rerun that cell! \n",
    "\n",
    "remote_image_details = [Details.celebrities, Details.landmarks]"
   ]
  },
  {
   "cell_type": "code",
   "execution_count": 72,
   "id": "362e17e8",
   "metadata": {},
   "outputs": [
    {
     "name": "stdout",
     "output_type": "stream",
     "text": [
      "Celebrities in the remote image:\n"
     ]
    },
    {
     "ename": "AttributeError",
     "evalue": "'list' object has no attribute 'detail'",
     "output_type": "error",
     "traceback": [
      "\u001b[1;31m---------------------------------------------------------------------------\u001b[0m",
      "\u001b[1;31mAttributeError\u001b[0m                            Traceback (most recent call last)",
      "Cell \u001b[1;32mIn[72], line 3\u001b[0m\n\u001b[0;32m      1\u001b[0m \u001b[38;5;66;03m# Detect celebrities\u001b[39;00m\n\u001b[0;32m      2\u001b[0m \u001b[38;5;28mprint\u001b[39m(\u001b[38;5;124m\"\u001b[39m\u001b[38;5;124mCelebrities in the remote image:\u001b[39m\u001b[38;5;124m\"\u001b[39m)\n\u001b[1;32m----> 3\u001b[0m \u001b[38;5;28;01mif\u001b[39;00m (\u001b[38;5;28mlen\u001b[39m(results_remote\u001b[38;5;241m.\u001b[39mcategories\u001b[38;5;241m.\u001b[39mdetail\u001b[38;5;241m.\u001b[39mcelebrities) \u001b[38;5;241m==\u001b[39m \u001b[38;5;241m0\u001b[39m):\n\u001b[0;32m      4\u001b[0m     \u001b[38;5;28mprint\u001b[39m(\u001b[38;5;124m\"\u001b[39m\u001b[38;5;124mNo celebrities detected.\u001b[39m\u001b[38;5;124m\"\u001b[39m)\n\u001b[0;32m      5\u001b[0m \u001b[38;5;28;01melse\u001b[39;00m:\n",
      "\u001b[1;31mAttributeError\u001b[0m: 'list' object has no attribute 'detail'"
     ]
    }
   ],
   "source": [
    "# Detect celebrities -  run only if all authentication is done,\n",
    "# and 1Celebrity recognition' access is granted\n",
    "print(\"Celebrities in the remote image:\")\n",
    "if (len(results_remote.categories.detail.celebrities) == 0):\n",
    "    print(\"No celebrities detected.\")\n",
    "else:\n",
    "    for celeb in results_remote.categories.detail.celebrities:\n",
    "        print(celeb[\"name\"])"
   ]
  }
 ],
 "metadata": {
  "kernelspec": {
   "display_name": "Python 3 (ipykernel)",
   "language": "python",
   "name": "python3"
  },
  "language_info": {
   "codemirror_mode": {
    "name": "ipython",
    "version": 3
   },
   "file_extension": ".py",
   "mimetype": "text/x-python",
   "name": "python",
   "nbconvert_exporter": "python",
   "pygments_lexer": "ipython3",
   "version": "3.11.7"
  }
 },
 "nbformat": 4,
 "nbformat_minor": 5
}
